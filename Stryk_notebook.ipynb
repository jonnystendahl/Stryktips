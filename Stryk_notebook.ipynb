{
 "cells": [
  {
   "cell_type": "code",
   "execution_count": 3,
   "metadata": {},
   "outputs": [],
   "source": [
    "import pandas as pd\n",
    "import matplotlib.pyplot as plt\n",
    "import seaborn as sns\n",
    "%matplotlib inline\n"
   ]
  },
  {
   "cell_type": "code",
   "execution_count": 4,
   "metadata": {},
   "outputs": [
    {
     "name": "stdout",
     "output_type": "stream",
     "text": [
      "<class 'pandas.core.frame.DataFrame'>\n",
      "Int64Index: 1163 entries, 15 to 3995\n",
      "Data columns (total 36 columns):\n",
      " #   Column          Non-Null Count  Dtype  \n",
      "---  ------          --------------  -----  \n",
      " 0   omg             1163 non-null   object \n",
      " 1   produktnamn     1163 non-null   object \n",
      " 2   correctRow      1163 non-null   object \n",
      " 3   turnover        1163 non-null   int64  \n",
      " 4   utd13           1163 non-null   int64  \n",
      " 5   utd12           1163 non-null   int64  \n",
      " 6   utd11           1163 non-null   int64  \n",
      " 7   utd10           1163 non-null   int64  \n",
      " 8   ant13           1163 non-null   int64  \n",
      " 9   ant12           1163 non-null   int64  \n",
      " 10  ant11           1163 non-null   int64  \n",
      " 11  ant10           1163 non-null   int64  \n",
      " 12  count1          1163 non-null   int64  \n",
      " 13  countX          1163 non-null   int64  \n",
      " 14  count2          1163 non-null   int64  \n",
      " 15  randomResults   1163 non-null   int64  \n",
      " 16  peopleWasRight  1163 non-null   int64  \n",
      " 17  oddsetWasRight  1163 non-null   int64  \n",
      " 18  peopleWasWrong  1163 non-null   int64  \n",
      " 19  oddsetWasWrong  1163 non-null   int64  \n",
      " 20  peopleMaxSum    1163 non-null   int64  \n",
      " 21  oddsetMaxSum    1163 non-null   int64  \n",
      " 22  peopleMinSum    1163 non-null   int64  \n",
      " 23  oddsetMinSum    1163 non-null   int64  \n",
      " 24  peopleSum       1163 non-null   int64  \n",
      " 25  oddsetSum       1163 non-null   int64  \n",
      " 26  peopleDiffSum   1163 non-null   int64  \n",
      " 27  oddsetDiffSum   1163 non-null   int64  \n",
      " 28  odds1_ok        1163 non-null   int64  \n",
      " 29  odds2_ok        1163 non-null   int64  \n",
      " 30  odds3_ok        1163 non-null   int64  \n",
      " 31  people1_ok      1163 non-null   int64  \n",
      " 32  people2_ok      1163 non-null   int64  \n",
      " 33  people3_ok      1163 non-null   int64  \n",
      " 34  id              1163 non-null   int64  \n",
      " 35  Unnamed: 35     0 non-null      float64\n",
      "dtypes: float64(1), int64(32), object(3)\n",
      "memory usage: 336.2+ KB\n",
      "None\n"
     ]
    }
   ],
   "source": [
    "df = pd.read_csv(\"TipsXtra.se_Statistik_Summering_2022-01-02.csv\", sep=';', na_filter=True)\n",
    "\n",
    "df = df.loc[df['produktnamn'] == 'Stryktipset']\n",
    "\n",
    "df.describe()"
   ]
  }
 ],
 "metadata": {
  "interpreter": {
   "hash": "521f54a44328f6e6ab4b2fcc86dbd1d3b8a277b19991f2741230bbde742112fb"
  },
  "kernelspec": {
   "display_name": "Python 3.10.1 64-bit ('py_3_10': venv)",
   "language": "python",
   "name": "python3"
  },
  "language_info": {
   "codemirror_mode": {
    "name": "ipython",
    "version": 3
   },
   "file_extension": ".py",
   "mimetype": "text/x-python",
   "name": "python",
   "nbconvert_exporter": "python",
   "pygments_lexer": "ipython3",
   "version": "3.10.1"
  },
  "orig_nbformat": 4
 },
 "nbformat": 4,
 "nbformat_minor": 2
}
